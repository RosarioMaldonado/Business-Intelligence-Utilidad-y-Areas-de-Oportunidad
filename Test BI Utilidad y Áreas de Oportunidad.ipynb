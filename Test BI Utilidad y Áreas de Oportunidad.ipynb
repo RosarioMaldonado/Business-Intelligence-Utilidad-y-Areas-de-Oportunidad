{
  "nbformat": 4,
  "nbformat_minor": 0,
  "metadata": {
    "colab": {
      "name": "Test Business Intelligence: Utilidad y Áreas de Oportunidad.ipynb",
      "provenance": []
    },
    "kernelspec": {
      "name": "python3",
      "display_name": "Python 3"
    },
    "language_info": {
      "name": "python"
    }
  },
  "cells": [
    {
      "cell_type": "markdown",
      "source": [
        "# Business Intelligence: Utilidad y Áreas de Oportunidad"
      ],
      "metadata": {
        "id": "6Dd79vy7jzNb"
      }
    },
    {
      "cell_type": "markdown",
      "source": [
        "* ¿Qué significa ETL?\n",
        "      Extract, Transform y Load.\n",
        "\n",
        "\n",
        "* ¿Cuáles son las fases del proceso de Business Intelligence?\n",
        "      Preparación, análisis y conclusiones.\n",
        "\n",
        "\n",
        "* En una startup el orden por importancia más común de stakeholders son clientes, empleados y acccionistas. Esto es:\n",
        "      Verdadero\n",
        "\n",
        "\n",
        "* En una empresa tradicional, ¿cuál es el orden por importancia más común de stakeholders?\n",
        "      Accionistas, clientes y empleados.\n",
        "\n",
        "\n",
        "* ¿Cuál es la razón primordial del Business Intelligence?\n",
        "      Salvaguardar los intereses de los stakeholders.\n",
        "\n",
        "\n",
        "* ¿Cuáles son los tipos de costo que podemos encontrar en una empresa?\n",
        "      Fijos, variables y semivariables.\n",
        "\n",
        "\n",
        "* La nómina es un ejemplo de costo...\n",
        "      Fijo\n",
        "\n",
        "\n",
        "* ¿Qué es el margen de contribución?\n",
        "      La diferencia entre el costo variable unitario y el precio de un producto.\n",
        "\n",
        "\n",
        "* ¿Para qué nos pueden servir las razones matemáticas en los negocios?\n",
        "      Para poder comparar fácilmente.\n",
        "\n",
        "\n",
        "* ¿Qué son los silos de información?\n",
        "      Cúmulos de información aislados.\n",
        "\n",
        "\n",
        "* ¿Qué es el gargabe in gargabe out?\n",
        "      La calidad de información que utilizamos al inicio de nuestro proceso. Si metes basura, sale basura.\n",
        "\n",
        "\n",
        "* Es común cambiar de opinión sobre nuestras suposicines al realizar exploraciones. Esto es:\n",
        "      Verdadero\n",
        "\n",
        "\n",
        "* La exploración es la parte que más tiempo utiliza en el proceso del Business Intelligence.\n",
        "      Verdadero\n",
        "\n",
        "\n",
        "* Elige la fórmula para encontrar el punto de equilibrio.\n",
        "      Costos fijos entre, la diferencia del precio unitario y costos variables unitarios.\n",
        "\n",
        "\n",
        "* Elige la fórmula para encontrar el punto de equilibrio, utilizando el margen de contribución\n",
        "      Costos fijos entre margen de contribución.\n",
        "\n",
        "\n",
        "* Podemos saber mucho sobre la empresa simplemente leyendo el estado de resultado. Esto es:\n",
        "      Verdadero\n",
        "\n",
        "\n",
        "* Si pudieras realizar acciones que aumenten un tipo de utilidad, ¿cuál utilidad preferirías aumentar?\n",
        "      Utilidad neta.\n",
        "\n",
        "\n",
        "* Si el gobierno desde aumentar los impuestos para el giro de nuestra empresa, ¿qué utilidad se vería afectada?\n",
        "      Utilidad neta\n",
        "\n",
        "\n",
        "* Si te encontraras con varios silos de información en la empresa, ¿qué deberías hacer?\n",
        "      Al momento de realizar extracciones, revisar qué silos podrían contener información relevante para el análisis e incorporarlo.\n",
        "\n",
        "\n",
        "* Te piden una presentación de reporte sobre el rendimiento del departamento comercial. Tendrás dos presentaciones, la primera con la jefa del departamento comercial y la segunda con la mesa directiva de la empresa, ¿qué deberías hacer?\n",
        "      Construir un reporte a la medida de cada audiencia, esto es, un reporte para la jefa de departamento y un reporte para la mesa directiva."
      ],
      "metadata": {
        "id": "GQV0Jui6j0x_"
      }
    }
  ]
}